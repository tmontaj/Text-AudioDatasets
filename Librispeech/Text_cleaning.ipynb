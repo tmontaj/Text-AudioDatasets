{
  "nbformat": 4,
  "nbformat_minor": 0,
  "metadata": {
    "colab": {
      "name": "Audio Cleaning.ipynb",
      "provenance": [],
      "collapsed_sections": [],
      "authorship_tag": "ABX9TyO+d7TQHYOYPhRZmyv00/Nc",
      "include_colab_link": true
    },
    "kernelspec": {
      "name": "python3",
      "display_name": "Python 3"
    }
  },
  "cells": [
    {
      "cell_type": "markdown",
      "metadata": {
        "id": "view-in-github",
        "colab_type": "text"
      },
      "source": [
        "<a href=\"https://colab.research.google.com/github/MohannadEhabBarakat/text2audio/blob/main/Text_cleaning.ipynb\" target=\"_parent\"><img src=\"https://colab.research.google.com/assets/colab-badge.svg\" alt=\"Open In Colab\"/></a>"
      ]
    },
    {
      "cell_type": "code",
      "metadata": {
        "id": "rYO3yGGKDJiS"
      },
      "source": [
        "import numpy as np\r\n",
        "import inflect\r\n",
        "import re"
      ],
      "execution_count": null,
      "outputs": []
    },
    {
      "cell_type": "code",
      "metadata": {
        "id": "CIqR0y4kDPy7"
      },
      "source": [
        "threshold : int"
      ],
      "execution_count": null,
      "outputs": []
    },
    {
      "cell_type": "code",
      "metadata": {
        "id": "7nPH1VFxD2hD"
      },
      "source": [
        "def audio_cleaning(arr):\r\n",
        "  i=0\r\n",
        "  print(threshold)\r\n",
        "  while i<len(arr):\r\n",
        "      if arr[i]>=threshold:\r\n",
        "        arr_new= arr[i:]\r\n",
        "        break   \r\n",
        "      i +=1\r\n",
        "  i=len(arr_new)-1\r\n",
        "  while i>0:\r\n",
        "      if arr_new[i]>=threshold:\r\n",
        "        arr_new= arr_new[0:i+1]\r\n",
        "        break   \r\n",
        "      i -=1\r\n",
        "  return arr_new\r\n"
      ],
      "execution_count": null,
      "outputs": []
    },
    {
      "cell_type": "code",
      "metadata": {
        "id": "SK8WKcmXsVLB"
      },
      "source": [
        "def collapse_whitespace(text):\r\n",
        "  return text.replace(\" \", \"\")"
      ],
      "execution_count": null,
      "outputs": []
    },
    {
      "cell_type": "code",
      "metadata": {
        "id": "hExT-WtFWzoZ"
      },
      "source": [
        "def lowercase(text):\r\n",
        "  return text.lower()"
      ],
      "execution_count": 82,
      "outputs": []
    },
    {
      "cell_type": "code",
      "metadata": {
        "id": "dWqWTVmNYCWA"
      },
      "source": [
        "def _remove_commas(m):\r\n",
        "  return m.replace(',', '')"
      ],
      "execution_count": null,
      "outputs": []
    },
    {
      "cell_type": "code",
      "metadata": {
        "colab": {
          "base_uri": "https://localhost:8080/",
          "height": 128
        },
        "id": "OHozwZGieFia",
        "outputId": "894bf1ad-9316-4e70-d9e6-90c54395ce20"
      },
      "source": [
        "def remove_symbols(s):\r\n",
        "  s = re.sub(r'[^a-zA-Z0-9 '.]', '', s)\r\n",
        "  return s"
      ],
      "execution_count": 131,
      "outputs": [
        {
          "output_type": "error",
          "ename": "SyntaxError",
          "evalue": "ignored",
          "traceback": [
            "\u001b[0;36m  File \u001b[0;32m\"<ipython-input-131-7dc7791c7841>\"\u001b[0;36m, line \u001b[0;32m2\u001b[0m\n\u001b[0;31m    s = re.sub(r'[^a-zA-Z0-9 '.]', '', s)\u001b[0m\n\u001b[0m                               ^\u001b[0m\n\u001b[0;31mSyntaxError\u001b[0m\u001b[0;31m:\u001b[0m invalid syntax\n"
          ]
        }
      ]
    },
    {
      "cell_type": "code",
      "metadata": {
        "id": "T369nKEJZTF7"
      },
      "source": [
        "_inflect = inflect.engine()\r\n",
        "_decimal_number_re = re.compile(r'([0-9]+\\.[0-9]+)')\r\n",
        "_pounds_re = re.compile(r'£([0-9\\,]*[0-9]+)')\r\n",
        "_dollars_re = re.compile(r'\\$([0-9\\.\\,]*[0-9]+)')\r\n",
        "_ordinal_re = re.compile(r'[0-9]+(st|nd|rd|th)')\r\n",
        "_number_re = re.compile(r'[0-9]+')"
      ],
      "execution_count": null,
      "outputs": []
    },
    {
      "cell_type": "code",
      "metadata": {
        "id": "8GS3Xs15luj4"
      },
      "source": [
        "def _expand_decimal_point(m):\r\n",
        "  return m.group(1).replace('.', ' point ')"
      ],
      "execution_count": null,
      "outputs": []
    },
    {
      "cell_type": "code",
      "metadata": {
        "id": "J9Ru9GU7lyll"
      },
      "source": [
        "def _expand_dollars(m):\r\n",
        "  match = m.group(1)\r\n",
        "  parts = match.split('.')\r\n",
        "  if len(parts) > 2:\r\n",
        "    return match + ' dollars'  # Unexpected format\r\n",
        "  dollars = int(parts[0]) if parts[0] else 0\r\n",
        "  cents = int(parts[1]) if len(parts) > 1 and parts[1] else 0\r\n",
        "  if dollars and cents:\r\n",
        "    dollar_unit = 'dollar' if dollars == 1 else 'dollars'\r\n",
        "    cent_unit = 'cent' if cents == 1 else 'cents'\r\n",
        "    return '%s %s, %s %s' % (dollars, dollar_unit, cents, cent_unit)\r\n",
        "  elif dollars:\r\n",
        "    dollar_unit = 'dollar' if dollars == 1 else 'dollars'\r\n",
        "    return '%s %s' % (dollars, dollar_unit)\r\n",
        "  elif cents:\r\n",
        "    cent_unit = 'cent' if cents == 1 else 'cents'\r\n",
        "    return '%s %s' % (cents, cent_unit)\r\n",
        "  else:\r\n",
        "    return 'zero dollars'"
      ],
      "execution_count": null,
      "outputs": []
    },
    {
      "cell_type": "code",
      "metadata": {
        "id": "KXb0542bl1ec"
      },
      "source": [
        "def _expand_ordinal(m):\r\n",
        "  return _inflect.number_to_words(m.group(0))"
      ],
      "execution_count": null,
      "outputs": []
    },
    {
      "cell_type": "code",
      "metadata": {
        "id": "A064qPOAl5VS"
      },
      "source": [
        "def _expand_number(m):\r\n",
        "  num = int(m.group(0))\r\n",
        "  if num > 1000 and num < 3000:\r\n",
        "    if num == 2000:\r\n",
        "      return 'two thousand'\r\n",
        "    elif num > 2000 and num < 2010:\r\n",
        "      return 'two thousand ' + _inflect.number_to_words(num % 100)\r\n",
        "    elif num % 100 == 0:\r\n",
        "      return _inflect.number_to_words(num // 100) + ' hundred'\r\n",
        "    else:\r\n",
        "      return _inflect.number_to_words(num, andword='', zero='oh', group=2).replace(', ', ' ')\r\n",
        "  else:\r\n",
        "    return _inflect.number_to_words(num, andword='')"
      ],
      "execution_count": null,
      "outputs": []
    },
    {
      "cell_type": "code",
      "metadata": {
        "id": "29JVb2_3kQMV"
      },
      "source": [
        "def normalize_numbers(text):\r\n",
        "  text = re.sub(_pounds_re, r'\\1 pounds', text)\r\n",
        "  text = re.sub(_dollars_re, _expand_dollars, text)\r\n",
        "  text = re.sub(_decimal_number_re, _expand_decimal_point, text)\r\n",
        "  text = re.sub(_ordinal_re, _expand_ordinal, text)\r\n",
        "  text = re.sub(_number_re, _expand_number, text)\r\n",
        "  return text"
      ],
      "execution_count": 110,
      "outputs": []
    },
    {
      "cell_type": "code",
      "metadata": {
        "colab": {
          "base_uri": "https://localhost:8080/"
        },
        "id": "zfi4GCC2kWZ4",
        "outputId": "26bbf1b1-e619-43ae-b273-d4eba476ee83"
      },
      "source": [
        "# List of (regular expression, replacement) pairs for abbreviations:\r\n",
        "_abbreviations = [(re.compile('\\\\b%s\\\\.' % x[0], re.IGNORECASE), x[1]) for x in [\r\n",
        "  ('mrs', 'misess'),\r\n",
        "  ('mr', 'mister'),\r\n",
        "  ('dr', 'doctor'),\r\n",
        "  ('st', 'saint'),\r\n",
        "  ('co', 'company'),\r\n",
        "  ('jr', 'junior'),\r\n",
        "  ('maj', 'major'),\r\n",
        "  ('gen', 'general'),\r\n",
        "  ('drs', 'doctors'),\r\n",
        "  ('rev', 'reverend'),\r\n",
        "  ('lt', 'lieutenant'),\r\n",
        "  ('hon', 'honorable'),\r\n",
        "  ('sgt', 'sergeant'),\r\n",
        "  ('capt', 'captain'),\r\n",
        "  ('esq', 'esquire'),\r\n",
        "  ('ltd', 'limited'),\r\n",
        "  ('col', 'colonel'),\r\n",
        "  ('ft', 'fort'),\r\n",
        "]]\r\n"
      ],
      "execution_count": 113,
      "outputs": [
        {
          "output_type": "stream",
          "text": [
            "one hundred dollars, three cents\n"
          ],
          "name": "stdout"
        }
      ]
    },
    {
      "cell_type": "code",
      "metadata": {
        "id": "TAnKanDQmU3H"
      },
      "source": [
        "def expand_abbreviations(text):\r\n",
        "  for regex, replacement in _abbreviations:\r\n",
        "    text = re.sub(regex, replacement, text)\r\n",
        "  return text"
      ],
      "execution_count": 125,
      "outputs": []
    },
    {
      "cell_type": "code",
      "metadata": {
        "colab": {
          "base_uri": "https://localhost:8080/"
        },
        "id": "ccxkBzNUtE-8",
        "outputId": "bb1dc0d7-f231-48f2-8486-2f87c02ce5cb"
      },
      "source": [
        "print(normalize_numbers(\"I have eaten 5 apples and brought them for $200.90. They were 2kg\"))"
      ],
      "execution_count": 122,
      "outputs": [
        {
          "output_type": "stream",
          "text": [
            "I have eaten five apples and brought them for two hundred dollars, ninety cents. They were twokg\n"
          ],
          "name": "stdout"
        }
      ]
    },
    {
      "cell_type": "code",
      "metadata": {
        "id": "D9u8noOgsewF"
      },
      "source": [
        "def clean_text(text):\r\n",
        "  text = lowercase(text)\r\n",
        "  text = normalize_numbers(text)\r\n",
        "  text = expand_abbreviations(text)\r\n",
        "  text = remove_symbols(text)\r\n",
        "  return text"
      ],
      "execution_count": 132,
      "outputs": []
    },
    {
      "cell_type": "code",
      "metadata": {
        "colab": {
          "base_uri": "https://localhost:8080/"
        },
        "id": "poC0ay4Gt_mb",
        "outputId": "cbab1c3e-181f-4420-87b7-831f2537b317"
      },
      "source": [
        "print(clean_text(\"I have eaten 5 kg of apples in two days !! Can't believe they cost $3000.50!\"))"
      ],
      "execution_count": 134,
      "outputs": [
        {
          "output_type": "stream",
          "text": [
            "i have eaten five kg of apples in two days  cant believe they cost three thousand dollars fifty cents\n"
          ],
          "name": "stdout"
        }
      ]
    }
  ]
}