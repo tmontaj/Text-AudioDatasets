{
  "nbformat": 4,
  "nbformat_minor": 0,
  "metadata": {
    "colab": {
      "name": "Audio Cleaning.ipynb",
      "provenance": [],
      "collapsed_sections": [],
      "include_colab_link": true
    },
    "kernelspec": {
      "name": "python3",
      "display_name": "Python 3"
    }
  },
  "cells": [
    {
      "cell_type": "markdown",
      "metadata": {
        "id": "view-in-github",
        "colab_type": "text"
      },
      "source": [
        "<a href=\"https://colab.research.google.com/github/tmontaj/Text-AudioDatasets/blob/main/Librispeech/Audio_Text_cleaning.ipynb\" target=\"_parent\"><img src=\"https://colab.research.google.com/assets/colab-badge.svg\" alt=\"Open In Colab\"/></a>"
      ]
    },
    {
      "cell_type": "code",
      "metadata": {
        "id": "rYO3yGGKDJiS"
      },
      "source": [
        "import numpy as np\r\n",
        "import inflect\r\n",
        "import re"
      ],
      "execution_count": 29,
      "outputs": []
    },
    {
      "cell_type": "code",
      "metadata": {
        "id": "CIqR0y4kDPy7"
      },
      "source": [
        "# threshold : int"
      ],
      "execution_count": 30,
      "outputs": []
    },
    {
      "cell_type": "code",
      "metadata": {
        "id": "7nPH1VFxD2hD"
      },
      "source": [
        "def audio_cleaning_old(arr):\r\n",
        "  i=0\r\n",
        "  print(threshold)\r\n",
        "  while i<len(arr):\r\n",
        "      if arr[i]>=threshold:\r\n",
        "        arr_new= arr[i:]\r\n",
        "        break   \r\n",
        "      i +=1\r\n",
        "  i=len(arr_new)-1\r\n",
        "  while i>0:\r\n",
        "      if arr_new[i]>=threshold:\r\n",
        "        arr_new= arr_new[0:i+1]\r\n",
        "        break   \r\n",
        "      i -=1\r\n",
        "  return arr_new\r\n"
      ],
      "execution_count": 31,
      "outputs": []
    },
    {
      "cell_type": "code",
      "metadata": {
        "id": "tYk7ooE7jrmp"
      },
      "source": [
        "def audio_cleaning(audio, threshold):\n",
        "  \"\"\"\n",
        "  clean audio from starting and trailing silence \n",
        "  \n",
        "  Arguments:\n",
        "  audio -- audio as np.array or tf tensor\n",
        "  threshold -- path to the file\n",
        "  Returns:\n",
        "  audio -- clean audio \n",
        "  \"\"\"\n",
        "  found_start = False\n",
        "  found_tail  = False\n",
        "\n",
        "  start = 0\n",
        "  tail  = audio.shape[0]-1\n",
        "\n",
        "  while True:\n",
        "    if found_start and found_tail: break\n",
        "    if start >= tail: break\n",
        "    \n",
        "    if not found_start and audio[start]<threshold:\n",
        "      start+=1\n",
        "    else: \n",
        "      found_start = True\n",
        "\n",
        "    if not found_tail and audio[tail]<threshold:\n",
        "      tail-=1\n",
        "    else: \n",
        "      found_tail = True\n",
        "\n",
        "  return audio[start:tail+1]"
      ],
      "execution_count": 32,
      "outputs": []
    },
    {
      "cell_type": "code",
      "metadata": {
        "id": "-JGnrjcqm9Fs"
      },
      "source": [
        "# audio_cleaning(audio=np.array([0,0,00,4,5,6,6,6,6,7,8,5,5,5]),\n",
        "#                threshold=5)\n",
        "\n",
        "# audio_cleaning(audio=np.array([0,0,00,4]),\n",
        "#                threshold=5)"
      ],
      "execution_count": 33,
      "outputs": []
    },
    {
      "cell_type": "code",
      "metadata": {
        "id": "SK8WKcmXsVLB"
      },
      "source": [
        "def _collapse_whitespace(text):\r\n",
        "  return text.replace(\" \", \"\")"
      ],
      "execution_count": 34,
      "outputs": []
    },
    {
      "cell_type": "code",
      "metadata": {
        "id": "hExT-WtFWzoZ"
      },
      "source": [
        "def _lowercase(text):\r\n",
        "  return text.lower()"
      ],
      "execution_count": 35,
      "outputs": []
    },
    {
      "cell_type": "code",
      "metadata": {
        "id": "dWqWTVmNYCWA"
      },
      "source": [
        "def _remove_commas(text):\r\n",
        "  return text.replace(',', '')"
      ],
      "execution_count": 36,
      "outputs": []
    },
    {
      "cell_type": "code",
      "metadata": {
        "id": "OHozwZGieFia"
      },
      "source": [
        "def _remove_symbols(text):\r\n",
        "  text = re.sub(r'[^a-zA-Z0-9 \\'.,]', '', text)\r\n",
        "  return text"
      ],
      "execution_count": 37,
      "outputs": []
    },
    {
      "cell_type": "code",
      "metadata": {
        "id": "KxP5w2howaiB",
        "outputId": "a9fe8d7e-cd1b-42b1-e22d-4ce898282e2b",
        "colab": {
          "base_uri": "https://localhost:8080/",
          "height": 36
        }
      },
      "source": [
        "_remove_symbols(\"text;.,/\\ojn'\\\"~`!@#$$%^&*()_+{}<>?|\")"
      ],
      "execution_count": 38,
      "outputs": [
        {
          "output_type": "execute_result",
          "data": {
            "application/vnd.google.colaboratory.intrinsic+json": {
              "type": "string"
            },
            "text/plain": [
              "\"text.,ojn'\""
            ]
          },
          "metadata": {
            "tags": []
          },
          "execution_count": 38
        }
      ]
    },
    {
      "cell_type": "code",
      "metadata": {
        "id": "T369nKEJZTF7"
      },
      "source": [
        "_inflect = inflect.engine()\r\n",
        "_decimal_number_re = re.compile(r'([0-9]+\\.[0-9]+)')\r\n",
        "_pounds_re = re.compile(r'£([0-9\\,]*[0-9]+)')\r\n",
        "_dollars_re = re.compile(r'\\$([0-9\\.\\,]*[0-9]+)')\r\n",
        "_ordinal_re = re.compile(r'[0-9]+(st|nd|rd|th)')\r\n",
        "_number_re = re.compile(r'[0-9]+')"
      ],
      "execution_count": 39,
      "outputs": []
    },
    {
      "cell_type": "code",
      "metadata": {
        "id": "8GS3Xs15luj4"
      },
      "source": [
        "def _expand_decimal_point(text):\r\n",
        "  return text.group(1).replace('.', ' point ')"
      ],
      "execution_count": 40,
      "outputs": []
    },
    {
      "cell_type": "code",
      "metadata": {
        "id": "J9Ru9GU7lyll"
      },
      "source": [
        "def _expand_dollars(text):\r\n",
        "  match = text.group(1)\r\n",
        "  parts = match.split('.')\r\n",
        "  if len(parts) > 2:\r\n",
        "    return match + ' dollars'  # Unexpected format\r\n",
        "  dollars = int(parts[0]) if parts[0] else 0\r\n",
        "  cents = int(parts[1]) if len(parts) > 1 and parts[1] else 0\r\n",
        "  if dollars and cents:\r\n",
        "    dollar_unit = 'dollar' if dollars == 1 else 'dollars'\r\n",
        "    cent_unit = 'cent' if cents == 1 else 'cents'\r\n",
        "    return '%s %s, %s %s' % (dollars, dollar_unit, cents, cent_unit)\r\n",
        "  elif dollars:\r\n",
        "    dollar_unit = 'dollar' if dollars == 1 else 'dollars'\r\n",
        "    return '%s %s' % (dollars, dollar_unit)\r\n",
        "  elif cents:\r\n",
        "    cent_unit = 'cent' if cents == 1 else 'cents'\r\n",
        "    return '%s %s' % (cents, cent_unit)\r\n",
        "  else:\r\n",
        "    return 'zero dollars'"
      ],
      "execution_count": 41,
      "outputs": []
    },
    {
      "cell_type": "code",
      "metadata": {
        "id": "KXb0542bl1ec"
      },
      "source": [
        "def _expand_ordinal(text):\r\n",
        "  return _inflect.number_to_words(text.group(0))"
      ],
      "execution_count": 42,
      "outputs": []
    },
    {
      "cell_type": "code",
      "metadata": {
        "id": "A064qPOAl5VS"
      },
      "source": [
        "def _expand_number(text):\r\n",
        "  num = int(text.group(0))\r\n",
        "  if num > 1000 and num < 3000:\r\n",
        "    if num == 2000:\r\n",
        "      return 'two thousand'\r\n",
        "    elif num > 2000 and num < 2010:\r\n",
        "      return 'two thousand ' + _inflect.number_to_words(num % 100)\r\n",
        "    elif num % 100 == 0:\r\n",
        "      return _inflect.number_to_words(num // 100) + ' hundred'\r\n",
        "    else:\r\n",
        "      return _inflect.number_to_words(num, andword='', zero='oh', group=2).replace(', ', ' ')\r\n",
        "  else:\r\n",
        "    return _inflect.number_to_words(num, andword='')"
      ],
      "execution_count": 43,
      "outputs": []
    },
    {
      "cell_type": "code",
      "metadata": {
        "id": "29JVb2_3kQMV"
      },
      "source": [
        "def _normalize_numbers(text):\r\n",
        "  text = re.sub(_pounds_re, r'\\1 pounds', text)\r\n",
        "  text = re.sub(_dollars_re, _expand_dollars, text)\r\n",
        "  text = re.sub(_decimal_number_re, _expand_decimal_point, text)\r\n",
        "  text = re.sub(_ordinal_re, _expand_ordinal, text)\r\n",
        "  text = re.sub(_number_re, _expand_number, text)\r\n",
        "  return text"
      ],
      "execution_count": 44,
      "outputs": []
    },
    {
      "cell_type": "code",
      "metadata": {
        "id": "zfi4GCC2kWZ4"
      },
      "source": [
        "# List of (regular expression, replacement) pairs for abbreviations:\r\n",
        "_abbreviations = [(re.compile('\\\\b%s\\\\.' % x[0], re.IGNORECASE), x[1]) for x in [\r\n",
        "  ('mrs', 'misess'),\r\n",
        "  ('mr', 'mister'),\r\n",
        "  ('dr', 'doctor'),\r\n",
        "  ('st', 'saint'),\r\n",
        "  ('co', 'company'),\r\n",
        "  ('jr', 'junior'),\r\n",
        "  ('maj', 'major'),\r\n",
        "  ('gen', 'general'),\r\n",
        "  ('drs', 'doctors'),\r\n",
        "  ('rev', 'reverend'),\r\n",
        "  ('lt', 'lieutenant'),\r\n",
        "  ('hon', 'honorable'),\r\n",
        "  ('sgt', 'sergeant'),\r\n",
        "  ('capt', 'captain'),\r\n",
        "  ('esq', 'esquire'),\r\n",
        "  ('ltd', 'limited'),\r\n",
        "  ('col', 'colonel'),\r\n",
        "  ('ft', 'fort'),\r\n",
        "]]\r\n"
      ],
      "execution_count": 45,
      "outputs": []
    },
    {
      "cell_type": "code",
      "metadata": {
        "id": "TAnKanDQmU3H"
      },
      "source": [
        "def _expand_abbreviations(text):\r\n",
        "  for regex, replacement in _abbreviations:\r\n",
        "    text = re.sub(regex, replacement, text)\r\n",
        "  return text"
      ],
      "execution_count": 46,
      "outputs": []
    },
    {
      "cell_type": "code",
      "metadata": {
        "id": "ccxkBzNUtE-8"
      },
      "source": [
        "# print(normalize_numbers(\"I have eaten 5 apples and brought them for $200.90. They were 2kg\"))"
      ],
      "execution_count": 47,
      "outputs": []
    },
    {
      "cell_type": "code",
      "metadata": {
        "id": "D9u8noOgsewF"
      },
      "source": [
        "def clean_text(text, remove_comma=True):\r\n",
        "  \"\"\"\r\n",
        "  clean text from symbols, remove (some) abbreviations, lowercase, and normaize numbers  \r\n",
        "  \r\n",
        "  Arguments:\r\n",
        "  text -- text to clean\r\n",
        "  remove_comma -- flag to remove commas\r\n",
        "  Returns:\r\n",
        "  text -- cleaned text\r\n",
        "  \"\"\"\r\n",
        "  text = _lowercase(text)\r\n",
        "  text = _normalize_numbers(text)\r\n",
        "  text = _expand_abbreviations(text)\r\n",
        "  text = _remove_symbols(text)\r\n",
        "  if remove_comma:\r\n",
        "    text = _remove_commas(text)\r\n",
        "  return text"
      ],
      "execution_count": 48,
      "outputs": []
    },
    {
      "cell_type": "code",
      "metadata": {
        "colab": {
          "base_uri": "https://localhost:8080/"
        },
        "id": "poC0ay4Gt_mb",
        "outputId": "aad40c12-19f5-43a8-9e50-9844867a1ccb"
      },
      "source": [
        "# print(clean_text(\"I have eaten 5 kg of apples in two days !! Can't believe they cost $3000.50!\"))"
      ],
      "execution_count": 49,
      "outputs": [
        {
          "output_type": "stream",
          "text": [
            "i have eaten five kg of apples in two days  can't believe they cost three thousand dollars fifty cents\n"
          ],
          "name": "stdout"
        }
      ]
    }
  ]
}