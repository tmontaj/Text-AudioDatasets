{
  "nbformat": 4,
  "nbformat_minor": 0,
  "metadata": {
    "colab": {
      "name": "data download and save",
      "provenance": [],
      "collapsed_sections": [],
      "authorship_tag": "ABX9TyMbekDxBf2Xehe/j7SWTHqS",
      "include_colab_link": true
    },
    "kernelspec": {
      "name": "python3",
      "display_name": "Python 3"
    }
  },
  "cells": [
    {
      "cell_type": "markdown",
      "metadata": {
        "id": "view-in-github",
        "colab_type": "text"
      },
      "source": [
        "<a href=\"https://colab.research.google.com/github/Noha-Magdy/Text-AudioDatasets/blob/main/Librispeech/data_download_and_save.ipynb\" target=\"_parent\"><img src=\"https://colab.research.google.com/assets/colab-badge.svg\" alt=\"Open In Colab\"/></a>"
      ]
    },
    {
      "cell_type": "code",
      "metadata": {
        "id": "C1knC1n0aprd"
      },
      "source": [
        "import pandas as pd\n"
      ],
      "execution_count": null,
      "outputs": []
    },
    {
      "cell_type": "code",
      "metadata": {
        "colab": {
          "base_uri": "https://localhost:8080/",
          "height": 408
        },
        "id": "UzWtHWnSa_XB",
        "outputId": "391bffda-2027-44a4-feec-f042889d85c0"
      },
      "source": [
        "# edits to be done in the data before loading it\n",
        "# edit line 45 remove || \n",
        "# edit ;id to be id \n",
        "#-----------------------------------------\n",
        "# use sep | and skip first 11 rows \n",
        "\n",
        "pd.read_csv('SPEAKERS.TXT', sep=\"|\", skiprows=11)"
      ],
      "execution_count": null,
      "outputs": [
        {
          "output_type": "execute_result",
          "data": {
            "text/html": [
              "<div>\n",
              "<style scoped>\n",
              "    .dataframe tbody tr th:only-of-type {\n",
              "        vertical-align: middle;\n",
              "    }\n",
              "\n",
              "    .dataframe tbody tr th {\n",
              "        vertical-align: top;\n",
              "    }\n",
              "\n",
              "    .dataframe thead th {\n",
              "        text-align: right;\n",
              "    }\n",
              "</style>\n",
              "<table border=\"1\" class=\"dataframe\">\n",
              "  <thead>\n",
              "    <tr style=\"text-align: right;\">\n",
              "      <th></th>\n",
              "      <th>ID</th>\n",
              "      <th>SEX</th>\n",
              "      <th>SUBSET</th>\n",
              "      <th>MINUTES</th>\n",
              "      <th>NAME</th>\n",
              "    </tr>\n",
              "  </thead>\n",
              "  <tbody>\n",
              "    <tr>\n",
              "      <th>0</th>\n",
              "      <td>14</td>\n",
              "      <td>F</td>\n",
              "      <td>train-clean-360</td>\n",
              "      <td>25.03</td>\n",
              "      <td>Kristin LeMoine</td>\n",
              "    </tr>\n",
              "    <tr>\n",
              "      <th>1</th>\n",
              "      <td>16</td>\n",
              "      <td>F</td>\n",
              "      <td>train-clean-360</td>\n",
              "      <td>25.11</td>\n",
              "      <td>Alys AtteWater</td>\n",
              "    </tr>\n",
              "    <tr>\n",
              "      <th>2</th>\n",
              "      <td>17</td>\n",
              "      <td>M</td>\n",
              "      <td>train-clean-360</td>\n",
              "      <td>25.04</td>\n",
              "      <td>Gord Mackenzie</td>\n",
              "    </tr>\n",
              "    <tr>\n",
              "      <th>3</th>\n",
              "      <td>19</td>\n",
              "      <td>F</td>\n",
              "      <td>train-clean-100</td>\n",
              "      <td>25.19</td>\n",
              "      <td>Kara Shallenberg</td>\n",
              "    </tr>\n",
              "    <tr>\n",
              "      <th>4</th>\n",
              "      <td>20</td>\n",
              "      <td>F</td>\n",
              "      <td>train-other-500</td>\n",
              "      <td>30.07</td>\n",
              "      <td>Gesine</td>\n",
              "    </tr>\n",
              "    <tr>\n",
              "      <th>...</th>\n",
              "      <td>...</td>\n",
              "      <td>...</td>\n",
              "      <td>...</td>\n",
              "      <td>...</td>\n",
              "      <td>...</td>\n",
              "    </tr>\n",
              "    <tr>\n",
              "      <th>2479</th>\n",
              "      <td>8975</td>\n",
              "      <td>F</td>\n",
              "      <td>train-clean-100</td>\n",
              "      <td>25.11</td>\n",
              "      <td>Daisy Flaim</td>\n",
              "    </tr>\n",
              "    <tr>\n",
              "      <th>2480</th>\n",
              "      <td>9000</td>\n",
              "      <td>M</td>\n",
              "      <td>train-other-500</td>\n",
              "      <td>27.26</td>\n",
              "      <td>Ramon Escamilla</td>\n",
              "    </tr>\n",
              "    <tr>\n",
              "      <th>2481</th>\n",
              "      <td>9022</td>\n",
              "      <td>F</td>\n",
              "      <td>train-clean-360</td>\n",
              "      <td>25.17</td>\n",
              "      <td>Claire M</td>\n",
              "    </tr>\n",
              "    <tr>\n",
              "      <th>2482</th>\n",
              "      <td>9023</td>\n",
              "      <td>F</td>\n",
              "      <td>train-clean-360</td>\n",
              "      <td>25.19</td>\n",
              "      <td>P. J. Morgan</td>\n",
              "    </tr>\n",
              "    <tr>\n",
              "      <th>2483</th>\n",
              "      <td>9026</td>\n",
              "      <td>F</td>\n",
              "      <td>train-clean-360</td>\n",
              "      <td>21.75</td>\n",
              "      <td>Tammy Porter</td>\n",
              "    </tr>\n",
              "  </tbody>\n",
              "</table>\n",
              "<p>2484 rows × 5 columns</p>\n",
              "</div>"
            ],
            "text/plain": [
              "      ID    SEX   SUBSET             MINUTES               NAME\n",
              "0       14   F    train-clean-360      25.03    Kristin LeMoine\n",
              "1       16   F    train-clean-360      25.11     Alys AtteWater\n",
              "2       17   M    train-clean-360      25.04     Gord Mackenzie\n",
              "3       19   F    train-clean-100      25.19   Kara Shallenberg\n",
              "4       20   F    train-other-500      30.07             Gesine\n",
              "...    ...  ...                 ...      ...                ...\n",
              "2479  8975   F    train-clean-100      25.11        Daisy Flaim\n",
              "2480  9000   M    train-other-500      27.26    Ramon Escamilla\n",
              "2481  9022   F    train-clean-360      25.17           Claire M\n",
              "2482  9023   F    train-clean-360      25.19       P. J. Morgan\n",
              "2483  9026   F    train-clean-360      21.75       Tammy Porter\n",
              "\n",
              "[2484 rows x 5 columns]"
            ]
          },
          "metadata": {
            "tags": []
          },
          "execution_count": 15
        }
      ]
    },
    {
      "cell_type": "code",
      "metadata": {
        "colab": {
          "base_uri": "https://localhost:8080/"
        },
        "id": "j_qKE6jw3dg6",
        "outputId": "f8bffc5f-8b12-453c-d882-cefbb29970d7"
      },
      "source": [
        "!pip install wget"
      ],
      "execution_count": null,
      "outputs": [
        {
          "output_type": "stream",
          "text": [
            "Collecting wget\n",
            "  Downloading https://files.pythonhosted.org/packages/47/6a/62e288da7bcda82b935ff0c6cfe542970f04e29c756b0e147251b2fb251f/wget-3.2.zip\n",
            "Building wheels for collected packages: wget\n",
            "  Building wheel for wget (setup.py) ... \u001b[?25l\u001b[?25hdone\n",
            "  Created wheel for wget: filename=wget-3.2-cp36-none-any.whl size=9682 sha256=eeebb74b5692b24b6ac4b43d44004635a69c9891a89a057d2c20e6f00c4f1c23\n",
            "  Stored in directory: /root/.cache/pip/wheels/40/15/30/7d8f7cea2902b4db79e3fea550d7d7b85ecb27ef992b618f3f\n",
            "Successfully built wget\n",
            "Installing collected packages: wget\n",
            "Successfully installed wget-3.2\n"
          ],
          "name": "stdout"
        }
      ]
    },
    {
      "cell_type": "code",
      "metadata": {
        "id": "vN-42XODzpXR"
      },
      "source": [
        "# Downloads librispeech\n",
        "import wget\n",
        "\n",
        "def download_librispeech(out, splits):\n",
        "\n",
        "  def _splits_url(split_name):\n",
        "    return \"https://www.openslr.org/resources/12/\"+split_name+\".tar.gz\"\n",
        "\n",
        "  for split in splits:\n",
        "    wget.download(splits_url(split), out=out, bar=\"bar_thermometer\")"
      ],
      "execution_count": null,
      "outputs": []
    },
    {
      "cell_type": "code",
      "metadata": {
        "id": "C-VL_gxc6ohV"
      },
      "source": [
        "def unzip_librispeech(out, splits):\n",
        "  "
      ],
      "execution_count": null,
      "outputs": []
    },
    {
      "cell_type": "code",
      "metadata": {
        "id": "ZDiUp9eY3bqZ"
      },
      "source": [
        "# splits are:\n",
        "\n",
        "dev-clean\n",
        "dev-other\n",
        "test-clean \n",
        "test-other\n",
        "train-clean-100\n",
        "train-clean-360\n",
        "train-other-500\n"
      ],
      "execution_count": null,
      "outputs": []
    }
  ]
}