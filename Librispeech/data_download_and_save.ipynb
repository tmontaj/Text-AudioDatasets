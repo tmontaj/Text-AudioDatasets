{
  "nbformat": 4,
  "nbformat_minor": 0,
  "metadata": {
    "colab": {
      "name": " data download and save",
      "provenance": [],
      "collapsed_sections": [],
      "toc_visible": true,
      "include_colab_link": true
    },
    "kernelspec": {
      "name": "python3",
      "display_name": "Python 3"
    }
  },
  "cells": [
    {
      "cell_type": "markdown",
      "metadata": {
        "id": "view-in-github",
        "colab_type": "text"
      },
      "source": [
        "<a href=\"https://colab.research.google.com/github/tmontaj/Text-AudioDatasets/blob/main/Librispeech/data_download_and_save.ipynb\" target=\"_parent\"><img src=\"https://colab.research.google.com/assets/colab-badge.svg\" alt=\"Open In Colab\"/></a>"
      ]
    },
    {
      "cell_type": "markdown",
      "metadata": {
        "id": "35WEEAreDkGF"
      },
      "source": [
        "## Downloading and preparing Librispeech dataset"
      ]
    },
    {
      "cell_type": "markdown",
      "metadata": {
        "id": "hw1czforDyDe"
      },
      "source": [
        "##### needed libraries "
      ]
    },
    {
      "cell_type": "code",
      "metadata": {
        "id": "C1knC1n0aprd",
        "colab": {
          "base_uri": "https://localhost:8080/"
        },
        "outputId": "cd0a6a63-f5fa-4f2d-882f-a58925fcb871"
      },
      "source": [
        "import pandas as pd\n",
        "import numpy as np\n",
        "from pathlib import Path\n",
        "import tarfile\n",
        "import os, sys\n",
        "import shutil\n",
        "\n",
        "\n",
        "!pip install wget\n",
        "import wget\n",
        "!pip install soundfile\n",
        "import soundfile as sf\n"
      ],
      "execution_count": 177,
      "outputs": [
        {
          "output_type": "stream",
          "text": [
            "Requirement already satisfied: wget in /usr/local/lib/python3.6/dist-packages (3.2)\n",
            "Requirement already satisfied: soundfile in /usr/local/lib/python3.6/dist-packages (0.10.3.post1)\n",
            "Requirement already satisfied: cffi>=1.0 in /usr/local/lib/python3.6/dist-packages (from soundfile) (1.14.4)\n",
            "Requirement already satisfied: pycparser in /usr/local/lib/python3.6/dist-packages (from cffi>=1.0->soundfile) (2.20)\n"
          ],
          "name": "stdout"
        }
      ]
    },
    {
      "cell_type": "code",
      "metadata": {
        "id": "CBYuj4Iy6lM3"
      },
      "source": [
        "#create this bar_progress method which is invoked automatically from wget and used in deffrent code\n",
        "\n",
        "def _bar_progress(current, total, width=80):\n",
        "  progress_message = \"Downloading: %d%% [%d / %d] bytes\" % (current / total * 100, current, total)\n",
        "  # Don't use print() as it will print in new line every time.\n",
        "  sys.stdout.write(\"\\r\" + progress_message)\n",
        "  sys.stdout.flush()"
      ],
      "execution_count": 2,
      "outputs": []
    },
    {
      "cell_type": "markdown",
      "metadata": {
        "id": "euFVSxbIETG8"
      },
      "source": [
        "##### Downloading and extracting Librispeech "
      ]
    },
    {
      "cell_type": "code",
      "metadata": {
        "id": "vN-42XODzpXR"
      },
      "source": [
        "def download_librispeech(out, splits):\n",
        "  \"\"\"\n",
        "    Downloading librispeech dataset splits\n",
        "\n",
        "    Arguments:\n",
        "    out -- path to save the dataset on\n",
        "    splits -- list of splits needed to be downloaded. splits are:\n",
        "                    [dev-clean\n",
        "                    dev-other,\n",
        "                    test-clean, \n",
        "                    test-other,\n",
        "                    train-clean-100,\n",
        "                    train-clean-360,\n",
        "                    train-other-500]\n",
        "\n",
        "\n",
        "  \"\"\"\n",
        "  def _splits_url(split_name):\n",
        "    return \"https://www.openslr.org/resources/12/\"+split_name+\".tar.gz\"\n",
        "  \n",
        "  def _splits_progress(split_name, split_number, splits_count):\n",
        "    progress_message = \"Split: %s [%d / %d]\" % (split_name, split_number, splits_count)\n",
        "    # Don't use print() as it will print in new line every time.\n",
        "    sys.stdout.write(\"\\r\" + progress_message+\"\\n\")\n",
        "    sys.stdout.flush()\n",
        "\n",
        "  print(\"Start downloading librispeech ...\")\n",
        "  split_number = 1\n",
        "  splits_count = len(splits)\n",
        "\n",
        "  for split_name in splits:\n",
        "    _splits_progress(split_name, split_number, splits_count)\n",
        "    wget.download(_splits_url(split_name), out=out, bar=_bar_progress)\n",
        "    split_number+=1\n",
        "\n",
        "  print(\"... Finish downloading librispeech\")\n"
      ],
      "execution_count": 3,
      "outputs": []
    },
    {
      "cell_type": "code",
      "metadata": {
        "id": "PyqlTt8dsCKt"
      },
      "source": [
        "# download_librispeech(\"\", [\"dev-clean\", \"dev-other\"])"
      ],
      "execution_count": 4,
      "outputs": []
    },
    {
      "cell_type": "code",
      "metadata": {
        "id": "C-VL_gxc6ohV"
      },
      "source": [
        "def unzip_librispeech(out, extract_path):\n",
        "  \"\"\"\n",
        "  extracting librispeech data\n",
        "\n",
        "  Arguments:\n",
        "  out -- path of the downloaded tar files \n",
        "  extract_path -- path to extract the files on  \n",
        "  \"\"\"\n",
        "  dirs = os.listdir(out)\n",
        "\n",
        "  print(\"Start extracting ...\")\n",
        "\n",
        "  for i in dirs:\n",
        "    target_name = i.split('.')\n",
        "    name = out +'/'+i\n",
        "    if name.endswith('.tar.gz'):\n",
        "      tar = tarfile.open(name, \"r:gz\")\n",
        "      tar.extractall(extract_path +'/' + target_name[0])\n",
        "      tar.close()\n",
        "\n",
        "  print(\"... Finished extracting\")"
      ],
      "execution_count": 20,
      "outputs": []
    },
    {
      "cell_type": "code",
      "metadata": {
        "id": "M2tmqlW02LlT"
      },
      "source": [
        "# unzip_librispeech(\".\", \"tst\")"
      ],
      "execution_count": 21,
      "outputs": []
    },
    {
      "cell_type": "markdown",
      "metadata": {
        "id": "NtvyPJtxLH_q"
      },
      "source": [
        "##### Organize directories "
      ]
    },
    {
      "cell_type": "code",
      "metadata": {
        "id": "wzBOOxZGLN1E"
      },
      "source": [
        "def organize_dirs (extract_path, organized_path):\n",
        "  \"\"\"\n",
        "  extracting librispeech data\n",
        "\n",
        "  Arguments:\n",
        "  extract_path -- path to extract the files on  \n",
        "  organized_path -- path to organize the files in  \n",
        "  \"\"\"\n",
        "  print(\"Start organize_dirs ...\")\n",
        "\n",
        "  dirs = os.listdir(extract_path)\n",
        "  for dir in dirs:\n",
        "    shutil.move(extract_path+ '/'+ dir+ '/' + 'LibriSpeech/'+ dir , organized_path)\n",
        "  \n",
        "  common_files_path = extract_path + '/' + dirs[0]+'/' + \"LibriSpeech\"\n",
        "  dirs = os.listdir( common_files_path )\n",
        "\n",
        "  for f in dirs:\n",
        "    shutil.move(common_files_path+'/'+ f , organized_path)\n",
        "  \n",
        "  print(\"... Finished organize_dirs\")\n",
        "\n"
      ],
      "execution_count": 22,
      "outputs": []
    },
    {
      "cell_type": "code",
      "metadata": {
        "id": "gCfpoqWaLwfK"
      },
      "source": [
        "# organize_dirs (\"./tst\", \"./tst2\")"
      ],
      "execution_count": 23,
      "outputs": []
    },
    {
      "cell_type": "code",
      "metadata": {
        "id": "iS0wI8yX5MoN"
      },
      "source": [
        "def _remove(dir_path):\n",
        "  \"\"\"\n",
        "  thin wrapper over os.system to remove directory or file \n",
        "\n",
        "  Arguments:\n",
        "  dir_path -- path to dirctory or file to remove  \n",
        "  \"\"\"\n",
        "  os.system('rm -R %s' %dir_path)"
      ],
      "execution_count": 24,
      "outputs": []
    },
    {
      "cell_type": "code",
      "metadata": {
        "id": "5s827HZ3x3-q"
      },
      "source": [
        "def _rename(dir_path, old_name, new_name):\n",
        "  \"\"\"\n",
        "  thin wrapper over os.system to rename directory or file \n",
        "\n",
        "  Arguments:\n",
        "  dir_path -- path to dirctory or file to rename  \n",
        "  old_name -- old name (original) for directory or file\n",
        "  new_name -- new name for directory or file\n",
        "  \"\"\"\n",
        "  os.system('mv %s %s' %(dir_path+\"/\"+old_name, dir_path+\"/\"+new_name))"
      ],
      "execution_count": 25,
      "outputs": []
    },
    {
      "cell_type": "code",
      "metadata": {
        "id": "28cImkxyzkFE"
      },
      "source": [
        "# _rename(\"./\", \"SPEAKERS2.TXT\", \"SPEAKERS3.TXT\")"
      ],
      "execution_count": 26,
      "outputs": []
    },
    {
      "cell_type": "code",
      "metadata": {
        "id": "0UQdPZNY61Ib"
      },
      "source": [
        "def download_and_extract(out, splits, extract_path,\n",
        "                         organized_path, remove_organized_path=False, download=True):\n",
        "  \"\"\"\n",
        "  download and extract librispeech\n",
        "\n",
        "  Arguments:\n",
        "  out -- path of the downloaded tar files \n",
        "  extract_path -- path to extract the files on  \n",
        "  organized_path -- path to organize the files in  \n",
        "  remove_organized_path -- flag to remove organized_path (uses -R to remove all files)\n",
        "  download -- flag to optionaly skip download the dataset\n",
        "  splits -- list of splits needed to be downloaded. splits are:\n",
        "                    [dev-clean\n",
        "                    dev-other,\n",
        "                    test-clean, \n",
        "                    test-other,\n",
        "                    train-clean-100,\n",
        "                    train-clean-360,\n",
        "                    train-other-500]\n",
        "  \"\"\"\n",
        "  if download:\n",
        "    download_librispeech(out, splits)\n",
        "  print(\"----------------------------\")\n",
        "  unzip_librispeech(out, extract_path)\n",
        "  print(\"----------------------------\")\n",
        "  if remove_organized_path:\n",
        "    _remove(organized_path)\n",
        "  organize_dirs (extract_path, organized_path)\n",
        "  print(\"----------------------------\")\n"
      ],
      "execution_count": 27,
      "outputs": []
    },
    {
      "cell_type": "code",
      "metadata": {
        "id": "UuoadGhF31o2"
      },
      "source": [
        "# download_and_extract(out = \"./\",\n",
        "#                      splits = [\"dev-clean\", \"dev-other\"],\n",
        "#                      extract_path = \"./tst\",\n",
        "#                      organized_path = \"./tst2\"\n",
        "#                      )"
      ],
      "execution_count": 28,
      "outputs": []
    },
    {
      "cell_type": "code",
      "metadata": {
        "id": "FeeSAcOn-Dk3"
      },
      "source": [
        "# _remove(\"./tst\")\n",
        "# _remove(\"./tst2\")"
      ],
      "execution_count": 29,
      "outputs": []
    },
    {
      "cell_type": "code",
      "metadata": {
        "id": "SaRFaQn54hNb"
      },
      "source": [
        "def load(src, splits, remove_organized_path=False, download=True):\n",
        "  \"\"\"\n",
        "  simple download and extract librispeech\n",
        "\n",
        "  Arguments:\n",
        "  src -- path to dataset directory \n",
        "  splits -- list of splits needed to be downloaded. splits are:\n",
        "                    [dev-clean\n",
        "                    dev-other,\n",
        "                    test-clean, \n",
        "                    test-other,\n",
        "                    train-clean-100,\n",
        "                    train-clean-360,\n",
        "                    train-other-500]\n",
        "  \"\"\"\n",
        "  src = src+\"/librispeech\"\n",
        "  out = src+\"/out\"\n",
        "  extract_path = src+\"/tmp\"\n",
        "  organized_path = src+\"/data\"\n",
        "\n",
        "  os.system(\"mkdir -p %s\" %(src))\n",
        "  if download:\n",
        "    os.system(\"mkdir -p %s\" %(out))\n",
        "    _remove(out+\"/*\")\n",
        "\n",
        "  os.system(\"mkdir -p %s\" %(extract_path))\n",
        "  _remove(extract_path+\"/*\")\n",
        "\n",
        "\n",
        "  os.system(\"mkdir -p %s\" %(organized_path))\n",
        "  _remove(organized_path+\"/*\")\n",
        "\n",
        "  print(out)\n",
        "  download_and_extract(out=out,\n",
        "                     splits=splits,\n",
        "                     extract_path = extract_path, \n",
        "                     organized_path = organized_path,\n",
        "                     remove_organized_path = remove_organized_path,\n",
        "                     download = download\n",
        "                     )\n",
        "  print(\"CONGRATS Librispeach is ready to be used at %s\" %(organized_path))\n"
      ],
      "execution_count": 30,
      "outputs": []
    },
    {
      "cell_type": "code",
      "metadata": {
        "id": "s3AtE4fK-UTI",
        "colab": {
          "base_uri": "https://localhost:8080/"
        },
        "outputId": "1ad92fd1-19f8-4157-8c53-420e8a56ebf0"
      },
      "source": [
        "load(src=\"dataset\",\n",
        "     splits=[\"dev-clean\", \"dev-other\"],\n",
        "     download=False)"
      ],
      "execution_count": 31,
      "outputs": [
        {
          "output_type": "stream",
          "text": [
            "dataset/librispeech/out\n",
            "----------------------------\n",
            "Start extracting ...\n",
            "... Finished extracting\n",
            "----------------------------\n",
            "Start organize_dirs ...\n",
            "... Finished organize_dirs\n",
            "----------------------------\n",
            "CONGRATS Librispeach is ready to be used at dataset/librispeech/data\n"
          ],
          "name": "stdout"
        }
      ]
    },
    {
      "cell_type": "code",
      "metadata": {
        "id": "7R6YgMEppxsu"
      },
      "source": [
        "def clean_speakers_file(src):\n",
        "  \"\"\"\n",
        "  clean speakers file\n",
        "\n",
        "  Arguments:\n",
        "  src -- path to dataset\n",
        "  \"\"\"\n",
        "  input=open(src+\"/SPEAKERS.TXT\", \"r\")\n",
        "  dest=open(src+\"/SPEAKERS_temp.TXT\", \"w\")\n",
        "\n",
        "  input_lines = input.readlines()\n",
        "\n",
        "  line_num = 1\n",
        "  for line in input_lines:\n",
        "    if line_num == 45:\n",
        "      line = line.split(\"|\")\n",
        "      line [-2] = line[-2]+\" \"+line[-1] \n",
        "      line.pop(-1)\n",
        "      line.pop(-2)\n",
        "      line = \"|\".join(line)\n",
        "\n",
        "    if line_num == 12:\n",
        "      line = line[1:].lower()\n",
        "    \n",
        "    dest.write(line)\n",
        "    line_num+=1\n",
        "\n",
        "  input.close()\n",
        "  dest.close()\n",
        "\n",
        "  # _remove(src+\"/SPEAKERS.TXT\")\n",
        "  _rename(src, \"SPEAKERS_temp.TXT\", \"speakers.txt\")"
      ],
      "execution_count": 32,
      "outputs": []
    },
    {
      "cell_type": "code",
      "metadata": {
        "id": "V9dBFWbJrz2u"
      },
      "source": [
        "# clean_speakers_file(src=\"./\")"
      ],
      "execution_count": 33,
      "outputs": []
    },
    {
      "cell_type": "code",
      "metadata": {
        "id": "UzWtHWnSa_XB"
      },
      "source": [
        "def load_metadata(data_path):\n",
        "  \"\"\"\n",
        "  load metadata currently loads speakers.txt only \n",
        "  \n",
        "  Arguments:\n",
        "  data_path -- path to dataset\n",
        "  \"\"\"\n",
        "\n",
        "  # use sep | and skip first 11 rows \n",
        "  speakers = pd.read_csv(data_path+\"/\"+'speakers.txt', sep=\"|\", skiprows=11)\n",
        "  speakers.columns = speakers.columns.map(lambda x: x.strip())\n",
        "  speakers.set_index(\"id\", inplace=True)\n",
        "  return speakers"
      ],
      "execution_count": 34,
      "outputs": []
    },
    {
      "cell_type": "code",
      "metadata": {
        "id": "uosOfDuE9Ai7"
      },
      "source": [
        "# x = load_metadata(\"./\")\n",
        "# x.columns\n",
        "\n",
        "# load_metadata(\"./\")"
      ],
      "execution_count": 35,
      "outputs": []
    },
    {
      "cell_type": "code",
      "metadata": {
        "id": "PHBxE8sU9Gm_"
      },
      "source": [
        "def load_trans(src, split_name):\n",
        "  \"\"\"\n",
        "  load single file of trans\n",
        "  \n",
        "  Arguments:\n",
        "  src -- path to the file\n",
        "  Returns:\n",
        "  df -- pandas dataframe of trans file\n",
        "  \"\"\"\n",
        "  \n",
        "  split = split_name.split(\"-\")\n",
        "\n",
        "  df = pd.read_csv(src,names=['data'])\n",
        "  df[['id','text']] = df[\"data\"].str.split(\" \", 1, expand=True)\n",
        "  df[['speaker', 'chapter', 'index']] = df[\"id\"].str.split(\"-\", expand=True)\n",
        "  df[[\"split\"]] = split[0]\n",
        "  # df[[\"split\"]] = split[0].split(\"/\")[-1]\n",
        "  df[[\"isClean\"]] = True if split[1] == \"clean\" else False\n",
        "  df[\"id\"] = split_name+\"/\"+df[\"id\"]\n",
        "  df.pop(\"data\")\n",
        "  df[\"wav\"] = \"\"\n",
        "  \n",
        "  return df"
      ],
      "execution_count": 194,
      "outputs": []
    },
    {
      "cell_type": "code",
      "metadata": {
        "id": "770MoncIJ__f"
      },
      "source": [
        "# load_trans(src=\"dataset/librispeech/data/dev-clean/1272/128104/1272-128104.trans.txt\",\n",
        "#            split_name = \"dev-clean\")"
      ],
      "execution_count": 195,
      "outputs": []
    },
    {
      "cell_type": "code",
      "metadata": {
        "id": "rl9QRSTMJzV-"
      },
      "source": [
        "def load_all_trans(src):\n",
        "  \"\"\"\n",
        "  load single file of trans\n",
        "  \n",
        "  Arguments:\n",
        "  src -- path to data directory\n",
        "  Returns:\n",
        "  all_trans -- pandas dataframe of all trans file\n",
        "  \"\"\"\n",
        "  splits = [x for x in Path(src).iterdir() if x.is_dir()]\n",
        "  df = []\n",
        "\n",
        "  for split in splits:\n",
        "    split = str(split)\n",
        "    for src in Path(split).rglob('*.trans.txt'):\n",
        "      split = split.split(\"/\")[-1]\n",
        "      df.append(load_trans(src, split))\n",
        "\n",
        "  return pd.concat(df)\n"
      ],
      "execution_count": 196,
      "outputs": []
    },
    {
      "cell_type": "code",
      "metadata": {
        "id": "kB843XEhOu84",
        "outputId": "b6559f91-acd0-4019-afbf-91fc7155ed87",
        "colab": {
          "base_uri": "https://localhost:8080/",
          "height": 402
        }
      },
      "source": [
        "load_all_trans(src=\"dataset/librispeech/data\")"
      ],
      "execution_count": 197,
      "outputs": [
        {
          "output_type": "execute_result",
          "data": {
            "text/html": [
              "<div>\n",
              "<style scoped>\n",
              "    .dataframe tbody tr th:only-of-type {\n",
              "        vertical-align: middle;\n",
              "    }\n",
              "\n",
              "    .dataframe tbody tr th {\n",
              "        vertical-align: top;\n",
              "    }\n",
              "\n",
              "    .dataframe thead th {\n",
              "        text-align: right;\n",
              "    }\n",
              "</style>\n",
              "<table border=\"1\" class=\"dataframe\">\n",
              "  <thead>\n",
              "    <tr style=\"text-align: right;\">\n",
              "      <th></th>\n",
              "      <th>id</th>\n",
              "      <th>text</th>\n",
              "      <th>speaker</th>\n",
              "      <th>chapter</th>\n",
              "      <th>index</th>\n",
              "      <th>split</th>\n",
              "      <th>isClean</th>\n",
              "      <th>wav</th>\n",
              "    </tr>\n",
              "  </thead>\n",
              "  <tbody>\n",
              "    <tr>\n",
              "      <th>0</th>\n",
              "      <td>dev-clean/1988-24833-0000</td>\n",
              "      <td>THE TWO STRAY KITTENS GRADUALLY MAKE THEMSELVE...</td>\n",
              "      <td>1988</td>\n",
              "      <td>24833</td>\n",
              "      <td>0000</td>\n",
              "      <td>dev</td>\n",
              "      <td>True</td>\n",
              "      <td></td>\n",
              "    </tr>\n",
              "    <tr>\n",
              "      <th>1</th>\n",
              "      <td>dev-clean/1988-24833-0001</td>\n",
              "      <td>SOMEHOW OR OTHER CAT HAS TAUGHT THEM THAT HE'S...</td>\n",
              "      <td>1988</td>\n",
              "      <td>24833</td>\n",
              "      <td>0001</td>\n",
              "      <td>dev</td>\n",
              "      <td>True</td>\n",
              "      <td></td>\n",
              "    </tr>\n",
              "    <tr>\n",
              "      <th>2</th>\n",
              "      <td>dev-clean/1988-24833-0002</td>\n",
              "      <td>SHE DOESN'T PICK THEM UP BUT JUST HAVING THEM ...</td>\n",
              "      <td>1988</td>\n",
              "      <td>24833</td>\n",
              "      <td>0002</td>\n",
              "      <td>dev</td>\n",
              "      <td>True</td>\n",
              "      <td></td>\n",
              "    </tr>\n",
              "    <tr>\n",
              "      <th>3</th>\n",
              "      <td>dev-clean/1988-24833-0003</td>\n",
              "      <td>WHEN ARE YOU GETTING RID OF THESE CATS I'M NOT...</td>\n",
              "      <td>1988</td>\n",
              "      <td>24833</td>\n",
              "      <td>0003</td>\n",
              "      <td>dev</td>\n",
              "      <td>True</td>\n",
              "      <td></td>\n",
              "    </tr>\n",
              "    <tr>\n",
              "      <th>4</th>\n",
              "      <td>dev-clean/1988-24833-0004</td>\n",
              "      <td>RIGHT AWAY WHEN I BRING HOME MY NEW PROGRAM HE...</td>\n",
              "      <td>1988</td>\n",
              "      <td>24833</td>\n",
              "      <td>0004</td>\n",
              "      <td>dev</td>\n",
              "      <td>True</td>\n",
              "      <td></td>\n",
              "    </tr>\n",
              "    <tr>\n",
              "      <th>...</th>\n",
              "      <td>...</td>\n",
              "      <td>...</td>\n",
              "      <td>...</td>\n",
              "      <td>...</td>\n",
              "      <td>...</td>\n",
              "      <td>...</td>\n",
              "      <td>...</td>\n",
              "      <td>...</td>\n",
              "    </tr>\n",
              "    <tr>\n",
              "      <th>110</th>\n",
              "      <td>dev-other/4515-11057-0110</td>\n",
              "      <td>YESTERDAY MORNING HE RECEIVED HER FINAL ANSWER...</td>\n",
              "      <td>4515</td>\n",
              "      <td>11057</td>\n",
              "      <td>0110</td>\n",
              "      <td>dev</td>\n",
              "      <td>False</td>\n",
              "      <td></td>\n",
              "    </tr>\n",
              "    <tr>\n",
              "      <th>111</th>\n",
              "      <td>dev-other/4515-11057-0111</td>\n",
              "      <td>YOU WILL UNDERSTAND THOUGH SURELY YOU NEED NO ...</td>\n",
              "      <td>4515</td>\n",
              "      <td>11057</td>\n",
              "      <td>0111</td>\n",
              "      <td>dev</td>\n",
              "      <td>False</td>\n",
              "      <td></td>\n",
              "    </tr>\n",
              "    <tr>\n",
              "      <th>112</th>\n",
              "      <td>dev-other/4515-11057-0112</td>\n",
              "      <td>YOU ARE THE ONLY FRIEND I HAVE OF MY OWN SEX A...</td>\n",
              "      <td>4515</td>\n",
              "      <td>11057</td>\n",
              "      <td>0112</td>\n",
              "      <td>dev</td>\n",
              "      <td>False</td>\n",
              "      <td></td>\n",
              "    </tr>\n",
              "    <tr>\n",
              "      <th>113</th>\n",
              "      <td>dev-other/4515-11057-0113</td>\n",
              "      <td>SEVERAL DAYS PASSED BEFORE THERE CAME A REPLY</td>\n",
              "      <td>4515</td>\n",
              "      <td>11057</td>\n",
              "      <td>0113</td>\n",
              "      <td>dev</td>\n",
              "      <td>False</td>\n",
              "      <td></td>\n",
              "    </tr>\n",
              "    <tr>\n",
              "      <th>114</th>\n",
              "      <td>dev-other/4515-11057-0114</td>\n",
              "      <td>I MUST ONLY ASK THAT YOU WILL WRITE TO ME WITH...</td>\n",
              "      <td>4515</td>\n",
              "      <td>11057</td>\n",
              "      <td>0114</td>\n",
              "      <td>dev</td>\n",
              "      <td>False</td>\n",
              "      <td></td>\n",
              "    </tr>\n",
              "  </tbody>\n",
              "</table>\n",
              "<p>5567 rows × 8 columns</p>\n",
              "</div>"
            ],
            "text/plain": [
              "                            id  ... wav\n",
              "0    dev-clean/1988-24833-0000  ...    \n",
              "1    dev-clean/1988-24833-0001  ...    \n",
              "2    dev-clean/1988-24833-0002  ...    \n",
              "3    dev-clean/1988-24833-0003  ...    \n",
              "4    dev-clean/1988-24833-0004  ...    \n",
              "..                         ...  ...  ..\n",
              "110  dev-other/4515-11057-0110  ...    \n",
              "111  dev-other/4515-11057-0111  ...    \n",
              "112  dev-other/4515-11057-0112  ...    \n",
              "113  dev-other/4515-11057-0113  ...    \n",
              "114  dev-other/4515-11057-0114  ...    \n",
              "\n",
              "[5567 rows x 8 columns]"
            ]
          },
          "metadata": {
            "tags": []
          },
          "execution_count": 197
        }
      ]
    },
    {
      "cell_type": "code",
      "metadata": {
        "id": "xAqHWng2RFnD"
      },
      "source": [
        "def load_wav(src, id):\n",
        "  \"\"\"\n",
        "  load single wav \n",
        "  \n",
        "  Arguments:\n",
        "  src -- path to data directory\n",
        "  id  -- id to load\n",
        "  Returns:\n",
        "  wav -- np array of mono sound file\n",
        "  sample_rate -- sample rate for librispeech = 16000 \n",
        "  \"\"\"\n",
        "\n",
        "  # split = split + (\"-clean\" if isClean else \"-other\")\n",
        "  id = id.split(\"/\")\n",
        "  file_name = id[1]+\".flac\"\n",
        "  id[1] = id[1].replace(\"-\", \"/\")[:-4]\n",
        "  path = os.path.join(src, id[0], id[1], file_name)\n",
        "  wav, sample_rate = sf.read(path)      \n",
        "\n",
        "  return wav, sample_rate"
      ],
      "execution_count": 198,
      "outputs": []
    },
    {
      "cell_type": "code",
      "metadata": {
        "id": "OwsKonbzTzu0"
      },
      "source": [
        "# wav, sample_rate = load_wav(src=\"dataset/librispeech/data\",\n",
        "#          id=\"dev-clean/1988-24833-0000\")\n",
        "\n",
        "# sample_rate"
      ],
      "execution_count": 199,
      "outputs": []
    }
  ]
}