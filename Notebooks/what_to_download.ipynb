{
  "nbformat": 4,
  "nbformat_minor": 0,
  "metadata": {
    "colab": {
      "name": "what_to_download.ipynb",
      "provenance": [],
      "collapsed_sections": []
    },
    "kernelspec": {
      "name": "python3",
      "display_name": "Python 3"
    }
  },
  "cells": [
    {
      "cell_type": "code",
      "metadata": {
        "colab": {
          "base_uri": "https://localhost:8080/"
        },
        "id": "RMXfQkLyeRgt",
        "outputId": "7551cd56-0ca9-47fd-b253-9394a6e1330e"
      },
      "source": [
        "! pip install wget"
      ],
      "execution_count": null,
      "outputs": [
        {
          "output_type": "stream",
          "text": [
            "Collecting wget\n",
            "  Downloading https://files.pythonhosted.org/packages/47/6a/62e288da7bcda82b935ff0c6cfe542970f04e29c756b0e147251b2fb251f/wget-3.2.zip\n",
            "Building wheels for collected packages: wget\n",
            "  Building wheel for wget (setup.py) ... \u001b[?25l\u001b[?25hdone\n",
            "  Created wheel for wget: filename=wget-3.2-cp36-none-any.whl size=9682 sha256=490e0ab0138ed3e12994b0994a772d599040c6b80779adc2c1792f14b461f8a3\n",
            "  Stored in directory: /root/.cache/pip/wheels/40/15/30/7d8f7cea2902b4db79e3fea550d7d7b85ecb27ef992b618f3f\n",
            "Successfully built wget\n",
            "Installing collected packages: wget\n",
            "Successfully installed wget-3.2\n"
          ],
          "name": "stdout"
        }
      ]
    },
    {
      "cell_type": "code",
      "metadata": {
        "id": "Q5JUZdAMeF5n"
      },
      "source": [
        "import wget\n",
        "import pandas as pd \n",
        "import numpy as np\n",
        "from pathlib import Path\n",
        "import hashlib\n",
        "from functools import partial\n",
        "import os"
      ],
      "execution_count": null,
      "outputs": []
    },
    {
      "cell_type": "code",
      "metadata": {
        "colab": {
          "base_uri": "https://localhost:8080/",
          "height": 36
        },
        "id": "xpuSZFxAeJ5O",
        "outputId": "e859f870-c2d9-4bd4-c305-71b4ff569fa3"
      },
      "source": [
        "wget.download(\"https://www.openslr.org/resources/12/md5sum.txt\", \"\", wget.bar_thermometer)"
      ],
      "execution_count": null,
      "outputs": [
        {
          "output_type": "stream",
          "text": [
            "\r[]\r[]"
          ],
          "name": "stdout"
        },
        {
          "output_type": "execute_result",
          "data": {
            "application/vnd.google.colaboratory.intrinsic+json": {
              "type": "string"
            },
            "text/plain": [
              "'md5sum.txt'"
            ]
          },
          "metadata": {
            "tags": []
          },
          "execution_count": 4
        }
      ]
    },
    {
      "cell_type": "code",
      "metadata": {
        "colab": {
          "base_uri": "https://localhost:8080/",
          "height": 36
        },
        "id": "8zCJpZMDeo7L",
        "outputId": "fd6038a5-946b-4cf0-c8e0-e9d11ede21ba"
      },
      "source": [
        "wget.download(\"https://www.openslr.org/resources/12/dev-clean.tar.gz\", \"\", wget.bar_thermometer)\n",
        "wget.download(\"https://www.openslr.org/resources/12/dev-other.tar.gz\", \"\", wget.bar_thermometer)\n"
      ],
      "execution_count": null,
      "outputs": [
        {
          "output_type": "stream",
          "text": [
            "[]"
          ],
          "name": "stdout"
        },
        {
          "output_type": "execute_result",
          "data": {
            "application/vnd.google.colaboratory.intrinsic+json": {
              "type": "string"
            },
            "text/plain": [
              "'dev-other.tar.gz'"
            ]
          },
          "metadata": {
            "tags": []
          },
          "execution_count": 5
        }
      ]
    },
    {
      "cell_type": "code",
      "metadata": {
        "id": "CaBDrTsSftOy"
      },
      "source": [
        "src = \"/content\"\n",
        "def load_md5sum_file(src):\n",
        "  ds = pd.read_csv(src+\"/md5sum.txt\",names=['md5sum', 'split'], sep=\" \")\n",
        "  ds[\"md5sum\"] = ds.index\n",
        "  ds.set_index(pd.RangeIndex(start=0, stop=ds.shape[0]))\n",
        "\n",
        "  return ds\n",
        "\n",
        "ds = load_md5sum_file(src)"
      ],
      "execution_count": null,
      "outputs": []
    },
    {
      "cell_type": "code",
      "metadata": {
        "id": "9g-zjb3xlATK"
      },
      "source": [
        "def md5sum(file, bufsize=1<<15):\n",
        "    d = hashlib.md5()\n",
        "    for buf in iter(partial(file.read, bufsize), b''):\n",
        "        d.update(buf)\n",
        "    return d.hexdigest()\n",
        "\n",
        "def calculate_md5sum(main, pattern = '*.tar.gz'):\n",
        "  names = []\n",
        "  md    = []\n",
        "  for src in Path(main).rglob(pattern):\n",
        "    f = open(src, \"rb\")\n",
        "    name =  str(src).split(\"/\")[-1]\n",
        "    names.append(name)\n",
        "    md.append(str(md5sum(f)))\n",
        "\n",
        "  df = {\n",
        "      \"split\" :names,\n",
        "      \"md5sum\":md\n",
        "  }\n",
        "  return pd.DataFrame(df)\n",
        "\n",
        "ds2 = calculate_md5sum(main=\"/content/\", pattern = '*.tar.gz')"
      ],
      "execution_count": null,
      "outputs": []
    },
    {
      "cell_type": "code",
      "metadata": {
        "id": "kBr1K56bgUzW"
      },
      "source": [
        "ds3 = ds.merge(ds2, on=[\"split\"], how=\"inner\")\n",
        "\n",
        "\n",
        "match     = ds3[ds3.md5sum_x == ds3.md5sum_y].split.tolist()\n",
        "not_match = ds3[ds3.md5sum_x != ds3.md5sum_y].split.tolist()\n",
        "\n",
        "missing   = list(set(ds.split.tolist()).difference(set(ds2.split.tolist())))"
      ],
      "execution_count": null,
      "outputs": []
    },
    {
      "cell_type": "code",
      "metadata": {
        "id": "PLTM-HQ0XIY4"
      },
      "source": [
        "def check_librispeech_md5sum(src):\n",
        "  os.remove(src+\"/md5sum.txt\")\n",
        "  wget.download(\"https://www.openslr.org/resources/12/md5sum.txt\", src)\n",
        "  \n",
        "  real_sum         = load_md5sum_file(src)\n",
        "  calculated_sum   = calculate_md5sum(main=\"/content/\", pattern = '*.tar.gz') #update this line \n",
        "  sum_intersection = real_sum.merge(calculated_sum, on=[\"split\"], how=\"inner\")\n",
        "\n",
        "\n",
        "  match     = sum_intersection[sum_intersection.md5sum_x ==\n",
        "                               sum_intersection.md5sum_y].split.tolist()\n",
        "\n",
        "  not_match = sum_intersection[sum_intersection.md5sum_x !=\n",
        "                               sum_intersection.md5sum_y].split.tolist()\n",
        "\n",
        "  missing   = list(set(ds.split.tolist()).difference(set(ds2.split.tolist())))\n",
        "\n",
        "  return match, not_match, missing"
      ],
      "execution_count": null,
      "outputs": []
    },
    {
      "cell_type": "code",
      "metadata": {
        "id": "lrQPVLEmYcPe"
      },
      "source": [
        "def clean_split_name(splits):\n",
        "  return [x.split(\".\")[0] for x in splits]"
      ],
      "execution_count": null,
      "outputs": []
    },
    {
      "cell_type": "code",
      "metadata": {
        "id": "SG6MzlWkYJUc"
      },
      "source": [
        "def what_to_download(src, splits):\n",
        "  match, not_match, missing = check_librispeech_md5sum(src)\n",
        "\n",
        "  match     = clean_split_name(match)\n",
        "  not_match = clean_split_name(not_match)\n",
        "  missing   = clean_split_name(missing)\n",
        "\n",
        "  for i in not_match:\n",
        "    os.remove(src+\"/d/\"+i+\".tar.gz\")\n",
        "    \n",
        "  missing.extend(not_match)\n",
        "  required = missing\n",
        "  download = list(set(splits).intersection(set(required)))\n",
        "\n",
        "  return download"
      ],
      "execution_count": null,
      "outputs": []
    },
    {
      "cell_type": "code",
      "metadata": {
        "colab": {
          "base_uri": "https://localhost:8080/"
        },
        "id": "U30E4Xt0ZCXx",
        "outputId": "f7d8d0ae-8c27-46d0-c12c-333ec4890fb9"
      },
      "source": [
        "what_to_download(src=\".\", splits=[\n",
        "                                 \"train-other-500\",\n",
        "                                 \"train-clean-360\",\n",
        "                                 \"dev-clean\",\n",
        "                                  ])"
      ],
      "execution_count": null,
      "outputs": [
        {
          "output_type": "execute_result",
          "data": {
            "text/plain": [
              "['train-clean-360', 'train-other-500']"
            ]
          },
          "metadata": {
            "tags": []
          },
          "execution_count": 70
        }
      ]
    },
    {
      "cell_type": "code",
      "metadata": {
        "colab": {
          "base_uri": "https://localhost:8080/"
        },
        "id": "jKhfHP1vgYK-",
        "outputId": "afda48f3-0a64-425f-b8ca-593b9bf80f93"
      },
      "source": [
        "print(\"found %d missing splits, \" %(len(missing)), missing)\n",
        "print(\"found %d match splits, \" %(len(match)), match)\n",
        "print(\"found %d not match splits, \" %(len(not_match)), not_match)\n"
      ],
      "execution_count": null,
      "outputs": [
        {
          "output_type": "stream",
          "text": [
            "found 9 missing splits,  ['train-other-500.tar.gz', 'train-clean-360.tar.gz', 'original-mp3.tar.gz', 'intro-disclaimers.tar.gz', 'train-clean-100.tar.gz', 'raw-metadata.tar.gz', 'original-books.tar.gz', 'test-other.tar.gz', 'test-clean.tar.gz']\n",
            "found 2 match splits,  ['dev-clean.tar.gz', 'dev-other.tar.gz']\n",
            "found 0 not match splits,  []\n"
          ],
          "name": "stdout"
        }
      ]
    },
    {
      "cell_type": "code",
      "metadata": {
        "colab": {
          "base_uri": "https://localhost:8080/"
        },
        "id": "5LW5g8npgv0-",
        "outputId": "809b5c34-3dcc-459f-9154-8e58c898287f"
      },
      "source": [
        "type(ds2.split[0])\n"
      ],
      "execution_count": null,
      "outputs": [
        {
          "output_type": "execute_result",
          "data": {
            "text/plain": [
              "str"
            ]
          },
          "metadata": {
            "tags": []
          },
          "execution_count": 12
        }
      ]
    },
    {
      "cell_type": "code",
      "metadata": {
        "colab": {
          "base_uri": "https://localhost:8080/"
        },
        "id": "EycoHuobSRu_",
        "outputId": "ebf87bcb-e1b7-4c27-9c23-4fa5ee1563dc"
      },
      "source": [
        "type(ds.md5sum[0])\n"
      ],
      "execution_count": null,
      "outputs": [
        {
          "output_type": "execute_result",
          "data": {
            "text/plain": [
              "str"
            ]
          },
          "metadata": {
            "tags": []
          },
          "execution_count": 13
        }
      ]
    },
    {
      "cell_type": "code",
      "metadata": {
        "colab": {
          "base_uri": "https://localhost:8080/"
        },
        "id": "RBeCVBuLSUpc",
        "outputId": "b8001594-12b1-4bb1-d0e8-57d4acedb840"
      },
      "source": [
        "type(ds2.md5sum[0])\n"
      ],
      "execution_count": null,
      "outputs": [
        {
          "output_type": "execute_result",
          "data": {
            "text/plain": [
              "str"
            ]
          },
          "metadata": {
            "tags": []
          },
          "execution_count": 14
        }
      ]
    },
    {
      "cell_type": "code",
      "metadata": {
        "colab": {
          "base_uri": "https://localhost:8080/"
        },
        "id": "ZF7qfvyoSXwv",
        "outputId": "d920c40c-6173-446a-f3c4-be02689e35d2"
      },
      "source": [
        "ds2.index"
      ],
      "execution_count": null,
      "outputs": [
        {
          "output_type": "execute_result",
          "data": {
            "text/plain": [
              "RangeIndex(start=0, stop=2, step=1)"
            ]
          },
          "metadata": {
            "tags": []
          },
          "execution_count": 17
        }
      ]
    },
    {
      "cell_type": "code",
      "metadata": {
        "colab": {
          "base_uri": "https://localhost:8080/"
        },
        "id": "CkKJHvuDSxA0",
        "outputId": "071348f5-1707-4476-b189-1df11abc6f74"
      },
      "source": [
        "ds.index"
      ],
      "execution_count": null,
      "outputs": [
        {
          "output_type": "execute_result",
          "data": {
            "text/plain": [
              "Int64Index([0, 1, 2, 3, 4, 5, 6, 7, 8, 9, 10], dtype='int64')"
            ]
          },
          "metadata": {
            "tags": []
          },
          "execution_count": 18
        }
      ]
    },
    {
      "cell_type": "code",
      "metadata": {
        "id": "jGZxIRpCS0PH"
      },
      "source": [
        ""
      ],
      "execution_count": null,
      "outputs": []
    }
  ]
}